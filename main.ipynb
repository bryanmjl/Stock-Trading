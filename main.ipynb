{
 "cells": [
  {
   "attachments": {},
   "cell_type": "markdown",
   "metadata": {},
   "source": [
    "### Configuration"
   ]
  },
  {
   "cell_type": "code",
   "execution_count": 1,
   "metadata": {},
   "outputs": [
    {
     "data": {
      "text/html": [
       "<div>\n",
       "<style scoped>\n",
       "    .dataframe tbody tr th:only-of-type {\n",
       "        vertical-align: middle;\n",
       "    }\n",
       "\n",
       "    .dataframe tbody tr th {\n",
       "        vertical-align: top;\n",
       "    }\n",
       "\n",
       "    .dataframe thead th {\n",
       "        text-align: right;\n",
       "    }\n",
       "</style>\n",
       "<table border=\"1\" class=\"dataframe\">\n",
       "  <thead>\n",
       "    <tr style=\"text-align: right;\">\n",
       "      <th></th>\n",
       "      <th>Close</th>\n",
       "    </tr>\n",
       "    <tr>\n",
       "      <th>Date</th>\n",
       "      <th></th>\n",
       "    </tr>\n",
       "  </thead>\n",
       "  <tbody>\n",
       "    <tr>\n",
       "      <th>2010-01-04</th>\n",
       "      <td>626.75</td>\n",
       "    </tr>\n",
       "    <tr>\n",
       "      <th>2010-01-05</th>\n",
       "      <td>623.99</td>\n",
       "    </tr>\n",
       "    <tr>\n",
       "      <th>2010-01-06</th>\n",
       "      <td>608.26</td>\n",
       "    </tr>\n",
       "    <tr>\n",
       "      <th>2010-01-07</th>\n",
       "      <td>594.10</td>\n",
       "    </tr>\n",
       "    <tr>\n",
       "      <th>2010-01-08</th>\n",
       "      <td>602.02</td>\n",
       "    </tr>\n",
       "  </tbody>\n",
       "</table>\n",
       "</div>"
      ],
      "text/plain": [
       "             Close\n",
       "Date              \n",
       "2010-01-04  626.75\n",
       "2010-01-05  623.99\n",
       "2010-01-06  608.26\n",
       "2010-01-07  594.10\n",
       "2010-01-08  602.02"
      ]
     },
     "execution_count": 1,
     "metadata": {},
     "output_type": "execute_result"
    }
   ],
   "source": [
    "# Relative import helper functions\n",
    "from src.basic import *\n",
    "from src.ml import *\n",
    "\n",
    "# Standard packages import\n",
    "import pandas as pd\n",
    "from config import *\n",
    "import matplotlib.pyplot as plt\n",
    "import warnings\n",
    "warnings.filterwarnings(\"ignore\")\n",
    "%matplotlib inline\n",
    "import quandl as q\n",
    "q.ApiConfig.api_key = API_KEY  # Set API key permanently\n",
    "\n",
    "# Configure standardardised variables amongst all trading functions\n",
    "data = q.get('WIKI/GOOGL', start_date = \"2010-01-01\", end_date = \"2018-01-01\")\n",
    "data = data[['Close']]  # Standard configuration of data with one row index \"Date\" and one column \"Close\"\n",
    "amount = 10000\n",
    "tc = 0\n",
    "col = 'Close'\n",
    "lags = 3\n",
    "data.head()\n"
   ]
  },
  {
   "attachments": {},
   "cell_type": "markdown",
   "metadata": {},
   "source": [
    "### Trading Strategies Implementation"
   ]
  },
  {
   "cell_type": "code",
   "execution_count": 3,
   "metadata": {},
   "outputs": [
    {
     "name": "stdout",
     "output_type": "stream",
     "text": [
      "51/51 [==============================] - 1s 8ms/step\n",
      "The best trading strategy is logreg_operf\n"
     ]
    }
   ],
   "source": [
    "# Calculate out-performance of all trading strategies\n",
    "SMA_operf = SimpleMovingAverage(42, 252, data.copy(), col, amount, tc)[2]\n",
    "Momentum_operf = Momentum(3, data.copy(), col, amount, tc)[2]\n",
    "MeanReversion_operf = MeanReversion(3, data.copy(), col, 3.5, amount, tc)[2]\n",
    "OLS_operf = OLS(data.copy(), 'Close', lags, amount, tc)[2]\n",
    "logreg_operf = logreg(data.copy(), 'Close', lags, amount, tc)[2]\n",
    "neural_network_operf = neural_network(data.copy(), 'Close', lags, amount, tc)[2]\n",
    "\n",
    "# Find the best outperforming strategy\n",
    "results = {\n",
    "    'SMA_operf': SMA_operf,\n",
    "    'Momentum_operf': Momentum_operf,\n",
    "    'MeanReversion_operf': MeanReversion_operf, \n",
    "    'OLS_operf': OLS_operf,\n",
    "    'logreg_operf': logreg_operf,\n",
    "    'neural_network_operf': neural_network_operf\n",
    "}\n",
    "\n",
    "print('The best trading strategy is', max(results, key=results.get))\n"
   ]
  }
 ],
 "metadata": {
  "kernelspec": {
   "display_name": ".venv",
   "language": "python",
   "name": "python3"
  },
  "language_info": {
   "codemirror_mode": {
    "name": "ipython",
    "version": 3
   },
   "file_extension": ".py",
   "mimetype": "text/x-python",
   "name": "python",
   "nbconvert_exporter": "python",
   "pygments_lexer": "ipython3",
   "version": "3.11.3"
  },
  "orig_nbformat": 4
 },
 "nbformat": 4,
 "nbformat_minor": 2
}
